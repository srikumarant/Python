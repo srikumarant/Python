{
 "cells": [
  {
   "cell_type": "code",
   "execution_count": null,
   "metadata": {
    "collapsed": true
   },
   "outputs": [],
   "source": [
    "# -2, -1, 0, 1, 2"
   ]
  },
  {
   "cell_type": "code",
   "execution_count": 2,
   "metadata": {
    "collapsed": true
   },
   "outputs": [],
   "source": [
    "import numpy as np\n",
    "from numpy.random import randn"
   ]
  },
  {
   "cell_type": "code",
   "execution_count": 15,
   "metadata": {
    "collapsed": false
   },
   "outputs": [
    {
     "name": "stdout",
     "output_type": "stream",
     "text": [
      "randn:  0.5282786971362401  greater than 0\n",
      "randn:  0.9324327280636222  greater than 0\n",
      "randn:  0.5449416006199396  greater than 0\n",
      "randn:  0.1712780853320639  greater than 0\n",
      "randn:  -1.80562959324078  lesser than 0\n",
      "randn:  -0.7430434558822637  lesser than 0\n",
      "randn:  0.7298392343879498  greater than 0\n",
      "randn:  0.09234819122042616  greater than 0\n",
      "randn:  -0.17622792008894417  lesser than 0\n",
      "randn:  -0.5692418586413188  lesser than 0\n"
     ]
    }
   ],
   "source": [
    "for counter in range(10):\n",
    "    val = None\n",
    "    val = randn()\n",
    "    if val > 0:\n",
    "        print(\"randn: \", val , \" greater than 0\")\n",
    "    elif val < 0:\n",
    "        print(\"randn: \", val , \" lesser than 0\")"
   ]
  },
  {
   "cell_type": "markdown",
   "metadata": {},
   "source": [
    "---"
   ]
  },
  {
   "cell_type": "code",
   "execution_count": 18,
   "metadata": {
    "collapsed": false
   },
   "outputs": [
    {
     "name": "stdout",
     "output_type": "stream",
     "text": [
      "run:  0   [ 0.92939159 -1.02418673 -0.70933401 -0.97822741  0.1000486  -0.98843778\n",
      " -1.48265612 -0.49896514  0.98033308  0.66308513]\n",
      " \n",
      "run:  1   [ 0.60894481 -1.05020581  0.22410258 -0.85039823  0.33661834  0.11168977\n",
      "  0.87533171  0.08767519 -2.12860894 -1.40665847]\n",
      " \n",
      "run:  2   [-0.39075355 -0.55054109 -0.62477102  0.95290386 -0.50301278 -0.15091593\n",
      "  0.29877189  0.09088306 -0.54189002 -1.53635692]\n",
      " \n",
      "run:  3   [ 1.09668873  0.17485336  1.32478414 -0.26535259 -0.26538939  1.33990784\n",
      " -0.95927322  0.12245882  0.10575038  0.07664935]\n",
      " \n",
      "run:  4   [-0.98539044 -0.28360897 -0.02608422 -2.56072178  1.1988158   0.32459461\n",
      "  1.3858097  -0.71283008  0.17488602  0.70941804]\n",
      " \n",
      "run:  5   [-0.07763876 -1.29683537  0.69457224 -0.65932497  1.00657408 -0.05465681\n",
      " -0.48004792 -0.08542209  0.0288434  -0.7655258 ]\n",
      " \n",
      "run:  6   [ 0.73062392 -0.75247181 -0.61797378  0.9534727  -0.12790366 -0.44911744\n",
      " -0.46542609  1.27438237 -1.70338988  1.43692793]\n",
      " \n",
      "run:  7   [ 0.18624046 -2.83287506  0.42308643  0.20857313  2.33859594  0.76190905\n",
      "  0.02394127 -0.16161286 -1.03617414  0.72436468]\n",
      " \n",
      "run:  8   [ 0.56530803 -0.57124435 -0.79030036  0.44557771  0.13967975  0.43026198\n",
      "  1.37688869  0.00671976 -0.71537999 -2.12638181]\n",
      " \n",
      "run:  9   [ 0.52374962  0.14666458 -0.38935487 -0.10955175  1.08622835 -2.16310882\n",
      " -1.66916863 -0.65628117  0.51097522  1.05005539]\n",
      " \n"
     ]
    }
   ],
   "source": [
    "for counter in range(10):\n",
    "    val = None\n",
    "    print(\"run: \", counter, \" \", randn(10))\n",
    "    print(\" \")"
   ]
  },
  {
   "cell_type": "code",
   "execution_count": null,
   "metadata": {
    "collapsed": true
   },
   "outputs": [],
   "source": []
  }
 ],
 "metadata": {
  "kernelspec": {
   "display_name": "Python [default]",
   "language": "python",
   "name": "python3"
  },
  "language_info": {
   "codemirror_mode": {
    "name": "ipython",
    "version": 3
   },
   "file_extension": ".py",
   "mimetype": "text/x-python",
   "name": "python",
   "nbconvert_exporter": "python",
   "pygments_lexer": "ipython3",
   "version": "3.5.4"
  }
 },
 "nbformat": 4,
 "nbformat_minor": 1
}
